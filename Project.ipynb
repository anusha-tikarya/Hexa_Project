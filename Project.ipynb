{
  "nbformat": 4,
  "nbformat_minor": 0,
  "metadata": {
    "colab": {
      "provenance": [],
      "authorship_tag": "ABX9TyN28wm5ga3nwbV2moP8YqeH",
      "include_colab_link": true
    },
    "kernelspec": {
      "name": "python3",
      "display_name": "Python 3"
    },
    "language_info": {
      "name": "python"
    }
  },
  "cells": [
    {
      "cell_type": "markdown",
      "metadata": {
        "id": "view-in-github",
        "colab_type": "text"
      },
      "source": [
        "<a href=\"https://colab.research.google.com/github/anusha-tikarya/Hexa_Project/blob/Week1/Project.ipynb\" target=\"_parent\"><img src=\"https://colab.research.google.com/assets/colab-badge.svg\" alt=\"Open In Colab\"/></a>"
      ]
    },
    {
      "cell_type": "code",
      "source": [
        "# Set up SQLite\n",
        "import sqlite3\n",
        "\n",
        "# Create database\n",
        "conn = sqlite3.connect(':memory:')\n",
        "cursor = conn.cursor()\n",
        "\n",
        "# Create tables to store customer, product, and order data\n",
        "cursor.execute('''\n",
        "CREATE TABLE customer_dim (\n",
        "    customer_id INT PRIMARY KEY,\n",
        "    customer_name VARCHAR(255),\n",
        "    location VARCHAR(255)\n",
        ");\n",
        "''')\n",
        "\n",
        "cursor.execute('''\n",
        "CREATE TABLE product_dim (\n",
        "    product_id INT PRIMARY KEY,\n",
        "    product_name VARCHAR(255),\n",
        "    category VARCHAR(255)\n",
        ");\n",
        "''')\n",
        "\n",
        "cursor.execute('''\n",
        "CREATE TABLE order_fact (\n",
        "    order_id INT PRIMARY KEY,\n",
        "    product_id INT,\n",
        "    customer_id INT,\n",
        "    quantity INT,\n",
        "    order_amount DECIMAL(10, 2),\n",
        "    order_date TIMESTAMP\n",
        ");\n",
        "''')\n",
        "\n",
        "# Inserting sample data\n",
        "cursor.execute(\"INSERT INTO product_dim VALUES (1, 'Phone', 'Electronics')\")\n",
        "cursor.execute(\"INSERT INTO product_dim VALUES (2, 'Laptop', 'Electronics')\")\n",
        "cursor.execute(\"INSERT INTO product_dim VALUES (3, 'Tablet', 'Electronics')\")\n",
        "\n",
        "cursor.execute(\"INSERT INTO customer_dim VALUES (2001, 'Anu', 'India')\")\n",
        "cursor.execute(\"INSERT INTO customer_dim VALUES (2002, 'Meena', 'canada')\")\n",
        "cursor.execute(\"INSERT INTO customer_dim VALUES (2003, 'Tanisha', 'New York')\")\n",
        "\n",
        "cursor.execute(\"INSERT INTO order_fact VALUES (1001, 1, 2001, 1, 139.99, '2023-09-27 12:30:00')\")\n",
        "cursor.execute(\"INSERT INTO order_fact VALUES (1002, 2, 2002, 2, 934.99, '2023-09-27 14:45:00')\")\n",
        "cursor.execute(\"INSERT INTO order_fact VALUES (1003, 3, 2003, 1, 543.99, '2023-09-27 15:30:00')\")\n",
        "\n",
        "# Commit the changes\n",
        "conn.commit()\n",
        "\n",
        "# Query data to analyze customer behavior and product interactions\n",
        "\n",
        "# 1. Retrieve all customer data\n",
        "cursor.execute(\"SELECT * FROM customer_dim\")\n",
        "customers = cursor.fetchall()\n",
        "print(\"Customer Data:\")\n",
        "for row in customers:\n",
        "    print(row)\n",
        "\n",
        "# 2. Retrieve all product data\n",
        "cursor.execute(\"SELECT * FROM product_dim\")\n",
        "products = cursor.fetchall()\n",
        "print(\"\\nProduct Data:\")\n",
        "for row in products:\n",
        "    print(row)\n",
        "\n",
        "# 3. Retrieve all order data\n",
        "cursor.execute(\"SELECT * FROM order_fact\")\n",
        "orders = cursor.fetchall()\n",
        "print(\"\\nOrder Data:\")\n",
        "for row in orders:\n",
        "    print(row)\n",
        "\n",
        "# 4. Finding the Highest Sales Day\n",
        "cursor.execute('''\n",
        "SELECT\n",
        "    DATE(order_fact.order_date) AS order_day,\n",
        "    SUM(order_fact.order_amount) AS total_sales\n",
        "FROM order_fact\n",
        "GROUP BY order_day\n",
        "ORDER BY total_sales DESC\n",
        "LIMIT 1;\n",
        "''')\n",
        "highest_sales_day = cursor.fetchone()\n",
        "print(\"\\nHighest Sales Day:\")\n",
        "print(highest_sales_day)\n",
        "\n",
        "# Close the connection\n",
        "conn.close()"
      ],
      "metadata": {
        "colab": {
          "base_uri": "https://localhost:8080/"
        },
        "id": "lHmpX-PaVZ5A",
        "outputId": "7b37d13a-46c3-4b5b-bf6b-5fd33325c234"
      },
      "execution_count": 35,
      "outputs": [
        {
          "output_type": "stream",
          "name": "stdout",
          "text": [
            "Customer Data:\n",
            "(2001, 'Anu', 'India')\n",
            "(2002, 'Meena', 'canada')\n",
            "(2003, 'Tanisha', 'New York')\n",
            "\n",
            "Product Data:\n",
            "(1, 'Phone', 'Electronics')\n",
            "(2, 'Laptop', 'Electronics')\n",
            "(3, 'Tablet', 'Electronics')\n",
            "\n",
            "Order Data:\n",
            "(1001, 1, 2001, 1, 139.99, '2023-09-27 12:30:00')\n",
            "(1002, 2, 2002, 2, 934.99, '2023-09-27 14:45:00')\n",
            "(1003, 3, 2003, 1, 543.99, '2023-09-27 15:30:00')\n",
            "\n",
            "Highest Sales Day:\n",
            "('2023-09-27', 1618.97)\n"
          ]
        }
      ]
    },
    {
      "cell_type": "code",
      "source": [],
      "metadata": {
        "id": "Yp-qXfZgYiHd"
      },
      "execution_count": null,
      "outputs": []
    }
  ]
}