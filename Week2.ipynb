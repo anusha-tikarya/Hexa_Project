{
  "nbformat": 4,
  "nbformat_minor": 0,
  "metadata": {
    "colab": {
      "provenance": [],
      "authorship_tag": "ABX9TyNXptr6zAzZ6wdZEcsidrfR",
      "include_colab_link": true
    },
    "kernelspec": {
      "name": "python3",
      "display_name": "Python 3"
    },
    "language_info": {
      "name": "python"
    }
  },
  "cells": [
    {
      "cell_type": "markdown",
      "metadata": {
        "id": "view-in-github",
        "colab_type": "text"
      },
      "source": [
        "<a href=\"https://colab.research.google.com/github/anusha-tikarya/Hexa_Project/blob/Week2/Week2.ipynb\" target=\"_parent\"><img src=\"https://colab.research.google.com/assets/colab-badge.svg\" alt=\"Open In Colab\"/></a>"
      ]
    },
    {
      "cell_type": "code",
      "source": [
        "# No external libraries need to be installed since SQLite and pandas are pre-installed in Colab.\n",
        "import sqlite3\n",
        "import pandas as pd\n",
        "from sqlalchemy import create_engine\n",
        "import random\n",
        "from datetime import datetime\n",
        "from time import sleep\n"
      ],
      "metadata": {
        "id": "EJAbLBazchis"
      },
      "execution_count": 6,
      "outputs": []
    },
    {
      "cell_type": "code",
      "source": [
        "# Create an in-memory SQLite database\n",
        "conn = sqlite3.connect(':memory:')\n",
        "cursor = conn.cursor()\n",
        "\n",
        "# Create customer, product, and order tables\n",
        "cursor.execute('''\n",
        "CREATE TABLE customer_dim (\n",
        "    customer_id INT PRIMARY KEY,\n",
        "    customer_name VARCHAR(255),\n",
        "    location VARCHAR(255)\n",
        ");\n",
        "''')\n",
        "\n",
        "cursor.execute('''\n",
        "CREATE TABLE product_dim (\n",
        "    product_id INT PRIMARY KEY,\n",
        "    product_name VARCHAR(255),\n",
        "    category VARCHAR(255)\n",
        ");\n",
        "''')\n",
        "\n",
        "cursor.execute('''\n",
        "CREATE TABLE order_fact (\n",
        "    order_id INT PRIMARY KEY,\n",
        "    product_id INT,\n",
        "    customer_id INT,\n",
        "    quantity INT,\n",
        "    order_amount DECIMAL(10, 2),\n",
        "    order_date TIMESTAMP\n",
        ");\n",
        "''')\n",
        "\n",
        "# Insert sample data into the tables\n",
        "cursor.execute(\"INSERT INTO customer_dim VALUES (2001, 'Anu', 'India')\")\n",
        "cursor.execute(\"INSERT INTO customer_dim VALUES (2002, 'Meena', 'Canada')\")\n",
        "cursor.execute(\"INSERT INTO customer_dim VALUES (2003, 'Tanisha', 'New York')\")\n",
        "\n",
        "cursor.execute(\"INSERT INTO product_dim VALUES (1, 'Phone', 'Electronics')\")\n",
        "cursor.execute(\"INSERT INTO product_dim VALUES (2, 'Laptop', 'Electronics')\")\n",
        "cursor.execute(\"INSERT INTO product_dim VALUES (3, 'Tablet', 'Electronics')\")\n",
        "\n",
        "conn.commit()  # Commit the changes\n"
      ],
      "metadata": {
        "id": "vRejM63WcoqV"
      },
      "execution_count": 7,
      "outputs": []
    },
    {
      "cell_type": "code",
      "source": [
        "# Connect to the SQLite database using SQLAlchemy\n",
        "engine = create_engine('sqlite:///:memory:')\n",
        "\n",
        "# Function to simulate real-time data streams for a limited number of orders\n",
        "def simulate_order_stream(limit=10):\n",
        "    product_ids = [1, 2, 3]\n",
        "    customer_ids = [2001, 2002, 2003]\n",
        "\n",
        "    for _ in range(limit):\n",
        "        order = {\n",
        "            'order_id': random.randint(1004, 9999),\n",
        "            'product_id': random.choice(product_ids),\n",
        "            'customer_id': random.choice(customer_ids),\n",
        "            'quantity': random.randint(1, 5),\n",
        "            'order_amount': round(random.uniform(50, 500), 2),\n",
        "            'order_date': datetime.now()\n",
        "        }\n",
        "        yield pd.DataFrame([order])\n",
        "        sleep(1)  # Pause for 1 second to simulate real-time data stream\n",
        "\n",
        "# Load the real-time orders into the SQLite database\n",
        "for order_batch in simulate_order_stream(limit=10):\n",
        "    order_batch.to_sql('order_fact', con=engine, if_exists='append', index=False)\n",
        "    print(f\"Order batch loaded into the database at {datetime.now()}\")\n"
      ],
      "metadata": {
        "colab": {
          "base_uri": "https://localhost:8080/"
        },
        "id": "rL8YQRdncrZk",
        "outputId": "6018c36b-1651-42ce-94f1-d3cef1bba105"
      },
      "execution_count": 8,
      "outputs": [
        {
          "output_type": "stream",
          "name": "stdout",
          "text": [
            "Order batch loaded into the database at 2024-09-27 07:47:14.909588\n",
            "Order batch loaded into the database at 2024-09-27 07:47:15.914759\n",
            "Order batch loaded into the database at 2024-09-27 07:47:16.920482\n",
            "Order batch loaded into the database at 2024-09-27 07:47:17.925916\n",
            "Order batch loaded into the database at 2024-09-27 07:47:18.932625\n",
            "Order batch loaded into the database at 2024-09-27 07:47:19.938594\n",
            "Order batch loaded into the database at 2024-09-27 07:47:20.945696\n",
            "Order batch loaded into the database at 2024-09-27 07:47:21.953392\n",
            "Order batch loaded into the database at 2024-09-27 07:47:22.962728\n",
            "Order batch loaded into the database at 2024-09-27 07:47:23.971283\n"
          ]
        }
      ]
    },
    {
      "cell_type": "code",
      "source": [
        "# Query the database to retrieve the real-time order data\n",
        "conn = sqlite3.connect('ecommerce.db')\n",
        "cursor = conn.cursor()\n",
        "\n",
        "# Execute a query to view all the orders\n",
        "cursor.execute(\"SELECT * FROM order_fact\")\n",
        "orders = cursor.fetchall()\n",
        "\n",
        "print(\"\\nOrder Data:\")\n",
        "for order in orders:\n",
        "    print(order)\n",
        "\n",
        "conn.close()\n"
      ],
      "metadata": {
        "colab": {
          "base_uri": "https://localhost:8080/"
        },
        "id": "QvCZJViZdqTg",
        "outputId": "3a404e63-2869-4e49-e5d1-a4d22f0bcd21"
      },
      "execution_count": 10,
      "outputs": [
        {
          "output_type": "stream",
          "name": "stdout",
          "text": [
            "\n",
            "Order Data:\n",
            "(9846, 1, 2003, 4, 282.06, '2024-09-27 07:42:30.341119')\n",
            "(4339, 3, 2002, 5, 223.78, '2024-09-27 07:42:32.374895')\n",
            "(2765, 3, 2001, 1, 405.68, '2024-09-27 07:42:34.391448')\n",
            "(8992, 2, 2003, 5, 423.66, '2024-09-27 07:42:36.409160')\n",
            "(4056, 3, 2001, 2, 59.89, '2024-09-27 07:42:38.425998')\n",
            "(6718, 2, 2003, 3, 325.24, '2024-09-27 07:42:40.442400')\n",
            "(1111, 3, 2003, 3, 437.41, '2024-09-27 07:42:42.456442')\n",
            "(7072, 2, 2001, 5, 224.86, '2024-09-27 07:42:44.474067')\n",
            "(2902, 1, 2002, 2, 131.63, '2024-09-27 07:42:46.491277')\n",
            "(3191, 1, 2001, 3, 338.88, '2024-09-27 07:42:48.507291')\n",
            "(6248, 3, 2002, 4, 337.2, '2024-09-27 07:42:50.522271')\n",
            "(8266, 2, 2002, 2, 452.75, '2024-09-27 07:42:52.539198')\n",
            "(7458, 3, 2001, 4, 397.91, '2024-09-27 07:45:01.501964')\n",
            "(2457, 1, 2002, 5, 233.12, '2024-09-27 07:45:03.521953')\n",
            "(9338, 2, 2001, 3, 131.08, '2024-09-27 07:45:05.537480')\n",
            "(6230, 1, 2001, 3, 141.32, '2024-09-27 07:45:07.564827')\n"
          ]
        }
      ]
    }
  ]
}